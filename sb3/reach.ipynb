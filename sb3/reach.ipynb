{
 "cells": [
  {
   "cell_type": "code",
   "execution_count": null,
   "id": "60526bde",
   "metadata": {},
   "outputs": [],
   "source": [
    "from envUtils import *\n",
    "\n",
    "env_config = {\n",
    "    \"robots\": [\"UR5e\"],         # 机器人\n",
    "    \"controller_configs\": load_composite_controller_config(controller=\"BASIC\"),\n",
    "    \"has_renderer\": False,\n",
    "    \"has_offscreen_renderer\": False,\n",
    "    \"reward_shaping\": True,\n",
    "    \"horizon\": 200,\n",
    "    \"control_freq\": 20,\n",
    "    \"seed\": 42,\n",
    "    \"train_type\": \"pose\",\n",
    "    \"reset_policy\": 2,\n",
    "    \"reward_scale\": 1.0,\n",
    "    \"use_object_obs\": False\n",
    "}\n",
    "\n",
    "env = ReachEnv(**env_config)\n",
    "env.update_goal_pose()\n",
    "env = GymWrapper(env)\n",
    "action = np.zeros(env.action_dim)\n",
    "a, b, c, d, e = env.step(action)\n",
    "print(f\"a:{a},b:{b},c:{c},d:{d},e:{e}\")"
   ]
  },
  {
   "cell_type": "code",
   "execution_count": null,
   "id": "c7ee70e3",
   "metadata": {},
   "outputs": [],
   "source": [
    "from stable_baselines3 import SAC\n",
    "from stable_baselines3.common.env_util import make_vec_env\n",
    "from stable_baselines3.common.vec_env import SubprocVecEnv\n",
    "from stable_baselines3.common.callbacks import EvalCallback\n",
    "\n",
    "from envUtils import *\n",
    "\n",
    "env_config = {\n",
    "    \"robots\": [\"UR5e\"],         # 机器人\n",
    "    \"controller_configs\": load_composite_controller_config(controller=\"BASIC\"),\n",
    "    \"has_renderer\": False,\n",
    "    \"has_offscreen_renderer\": False,\n",
    "    \"reward_shaping\": True,\n",
    "    \"horizon\": 200,\n",
    "    \"control_freq\": 20,\n",
    "    \"seed\": 42,\n",
    "    \"train_type\": \"pose\",\n",
    "    \"reset_policy\": 2,\n",
    "    \"reward_scale\": 1.0,\n",
    "    \"use_object_obs\": False\n",
    "}\n",
    "env = make_env(env_config)\n",
    "action = np.zeros(env.action_dim)\n",
    "a, b, c, d, e = env.step(action)\n",
    "print(f\"a:{a},b:{b},c:{c},d:{d},e:{e}\")"
   ]
  }
 ],
 "metadata": {
  "kernelspec": {
   "display_name": "rlreach310",
   "language": "python",
   "name": "python3"
  },
  "language_info": {
   "codemirror_mode": {
    "name": "ipython",
    "version": 3
   },
   "file_extension": ".py",
   "mimetype": "text/x-python",
   "name": "python",
   "nbconvert_exporter": "python",
   "pygments_lexer": "ipython3",
   "version": "3.10.18"
  }
 },
 "nbformat": 4,
 "nbformat_minor": 5
}
