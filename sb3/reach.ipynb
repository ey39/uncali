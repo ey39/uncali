{
 "cells": [
  {
   "cell_type": "code",
   "execution_count": 1,
   "id": "7f94c5b3",
   "metadata": {},
   "outputs": [
    {
     "name": "stderr",
     "output_type": "stream",
     "text": [
      "\u001b[1m\u001b[33m[robosuite WARNING] \u001b[0mNo private macro file found! (macros.py:57)\n",
      "\u001b[1m\u001b[33m[robosuite WARNING] \u001b[0mIt is recommended to use a private macro file (macros.py:58)\n",
      "\u001b[1m\u001b[33m[robosuite WARNING] \u001b[0mTo setup, run: python /home/ey/rl/src/robosuite/robosuite/scripts/setup_macros.py (macros.py:59)\n",
      "\u001b[1m\u001b[33m[robosuite WARNING] \u001b[0mCould not import robosuite_models. Some robots may not be available. If you want to use these robots, please install robosuite_models from source (https://github.com/ARISE-Initiative/robosuite_models) or through pip install. (__init__.py:30)\n",
      "\u001b[1m\u001b[33m[robosuite WARNING] \u001b[0mCould not load the mink-based whole-body IK. Make sure you install related import properly, otherwise you will not be able to use the default IK controller setting for GR1 robot. (__init__.py:40)\n",
      "2025-07-21 21:49:51.623298: I tensorflow/core/util/port.cc:153] oneDNN custom operations are on. You may see slightly different numerical results due to floating-point round-off errors from different computation orders. To turn them off, set the environment variable `TF_ENABLE_ONEDNN_OPTS=0`.\n",
      "2025-07-21 21:49:51.633769: E external/local_xla/xla/stream_executor/cuda/cuda_fft.cc:467] Unable to register cuFFT factory: Attempting to register factory for plugin cuFFT when one has already been registered\n",
      "WARNING: All log messages before absl::InitializeLog() is called are written to STDERR\n",
      "E0000 00:00:1753105791.647187 1045579 cuda_dnn.cc:8579] Unable to register cuDNN factory: Attempting to register factory for plugin cuDNN when one has already been registered\n",
      "E0000 00:00:1753105791.650695 1045579 cuda_blas.cc:1407] Unable to register cuBLAS factory: Attempting to register factory for plugin cuBLAS when one has already been registered\n",
      "W0000 00:00:1753105791.660215 1045579 computation_placer.cc:177] computation placer already registered. Please check linkage and avoid linking the same target more than once.\n",
      "W0000 00:00:1753105791.660227 1045579 computation_placer.cc:177] computation placer already registered. Please check linkage and avoid linking the same target more than once.\n",
      "W0000 00:00:1753105791.660228 1045579 computation_placer.cc:177] computation placer already registered. Please check linkage and avoid linking the same target more than once.\n",
      "W0000 00:00:1753105791.660229 1045579 computation_placer.cc:177] computation placer already registered. Please check linkage and avoid linking the same target more than once.\n",
      "2025-07-21 21:49:51.663563: I tensorflow/core/platform/cpu_feature_guard.cc:210] This TensorFlow binary is optimized to use available CPU instructions in performance-critical operations.\n",
      "To enable the following instructions: AVX2 AVX_VNNI FMA, in other operations, rebuild TensorFlow with the appropriate compiler flags.\n"
     ]
    }
   ],
   "source": [
    "from reachEnvSb3 import *"
   ]
  },
  {
   "cell_type": "code",
   "execution_count": null,
   "id": "60526bde",
   "metadata": {},
   "outputs": [
    {
     "name": "stderr",
     "output_type": "stream",
     "text": [
      "\u001b[1m\u001b[32m[robosuite INFO] \u001b[0mLoading controller configuration from: /home/ey/rl/src/robosuite/robosuite/controllers/config/default/composite/basic.json (composite_controller_factory.py:121)\n",
      "\u001b[1m\u001b[33m[robosuite WARNING] \u001b[0mThe config has defined for the controller \"left\", but the robot does not have this component. Skipping, but make sure this is intended.Removing the controller config for left from self.part_controller_config. (robot.py:151)\n",
      "\u001b[1m\u001b[33m[robosuite WARNING] \u001b[0mThe config has defined for the controller \"torso\", but the robot does not have this component. Skipping, but make sure this is intended.Removing the controller config for torso from self.part_controller_config. (robot.py:151)\n",
      "\u001b[1m\u001b[33m[robosuite WARNING] \u001b[0mThe config has defined for the controller \"head\", but the robot does not have this component. Skipping, but make sure this is intended.Removing the controller config for head from self.part_controller_config. (robot.py:151)\n",
      "\u001b[1m\u001b[33m[robosuite WARNING] \u001b[0mThe config has defined for the controller \"base\", but the robot does not have this component. Skipping, but make sure this is intended.Removing the controller config for base from self.part_controller_config. (robot.py:151)\n",
      "\u001b[1m\u001b[33m[robosuite WARNING] \u001b[0mThe config has defined for the controller \"legs\", but the robot does not have this component. Skipping, but make sure this is intended.Removing the controller config for legs from self.part_controller_config. (robot.py:151)\n",
      "\u001b[1m\u001b[33m[robosuite WARNING] \u001b[0mThe config has defined for the controller \"left\", but the robot does not have this component. Skipping, but make sure this is intended.Removing the controller config for left from self.part_controller_config. (robot.py:151)\n",
      "\u001b[1m\u001b[33m[robosuite WARNING] \u001b[0mThe config has defined for the controller \"torso\", but the robot does not have this component. Skipping, but make sure this is intended.Removing the controller config for torso from self.part_controller_config. (robot.py:151)\n",
      "\u001b[1m\u001b[33m[robosuite WARNING] \u001b[0mThe config has defined for the controller \"head\", but the robot does not have this component. Skipping, but make sure this is intended.Removing the controller config for head from self.part_controller_config. (robot.py:151)\n",
      "\u001b[1m\u001b[33m[robosuite WARNING] \u001b[0mThe config has defined for the controller \"base\", but the robot does not have this component. Skipping, but make sure this is intended.Removing the controller config for base from self.part_controller_config. (robot.py:151)\n",
      "\u001b[1m\u001b[33m[robosuite WARNING] \u001b[0mThe config has defined for the controller \"legs\", but the robot does not have this component. Skipping, but make sure this is intended.Removing the controller config for legs from self.part_controller_config. (robot.py:151)\n"
     ]
    },
    {
     "name": "stdout",
     "output_type": "stream",
     "text": [
      "[chatbus] 共享内存已存在，连接成功\n",
      "机械臂关节位置:\n",
      "[-0.47  -1.735  2.48  -2.275 -1.59  -1.991]\n",
      "机械臂关节速度:\n",
      "[0. 0. 0. 0. 0. 0.]\n",
      "机械臂基座序号:4\n",
      "世界坐标系基座位置:\n",
      "[-0.56   0.     0.912]\n",
      "世界坐标系基座姿态:\n",
      "[0. 0. 0. 1.]\n",
      "世界坐标系基座变换:\n",
      "[[ 1.     0.     0.    -0.56 ]\n",
      " [ 0.     1.     0.     0.   ]\n",
      " [ 0.     0.     1.     0.912]\n",
      " [ 0.     0.     0.     1.   ]]\n",
      "机械臂末端名称:robot0_right_hand\n",
      "机械臂末端序号:12\n",
      "世界坐标系末端位置:\n",
      "[-0.21967662 -0.02468643  1.1265394 ]\n",
      "世界坐标系末端姿态:\n",
      "[-9.99440888e-01  2.46934819e-02  2.25417255e-02  1.17048126e-04]\n",
      "世界坐标系末端变换:\n",
      "[[ 9.97764205e-01 -4.93646279e-02 -4.50524636e-02 -2.19676616e-01]\n",
      " [-4.93540741e-02 -9.98780437e-01  1.34723275e-03 -2.46864292e-02]\n",
      " [-4.50640249e-02  8.79302016e-04 -9.98983714e-01  1.12653940e+00]\n",
      " [ 0.00000000e+00  0.00000000e+00  0.00000000e+00  1.00000000e+00]]\n",
      "相机坐标系目标变换:[[ 0.35561021 -0.07040647 -0.9319787  -0.42719902]\n",
      " [ 0.93385591  0.06745556  0.35123054 -0.55402014]\n",
      " [ 0.03813825 -0.99523499  0.08973738 -0.12749678]\n",
      " [ 0.          0.          0.          1.        ]]\n",
      "机械臂末端名称:robot0_right_hand\n",
      "机械臂末端序号:12\n",
      "世界坐标系末端位置:\n",
      "[-0.21967662 -0.02468643  1.1265394 ]\n",
      "世界坐标系末端姿态:\n",
      "[-9.99440888e-01  2.46934819e-02  2.25417255e-02  1.17048126e-04]\n",
      "世界坐标系末端变换:\n",
      "[[ 9.97764205e-01 -4.93646279e-02 -4.50524636e-02 -2.19676616e-01]\n",
      " [-4.93540741e-02 -9.98780437e-01  1.34723275e-03 -2.46864292e-02]\n",
      " [-4.50640249e-02  8.79302016e-04 -9.98983714e-01  1.12653940e+00]\n",
      " [ 0.00000000e+00  0.00000000e+00  0.00000000e+00  1.00000000e+00]]\n",
      "相机坐标系工具变换:[[ 0.83172978 -0.08894616  0.54800927 -0.05634209]\n",
      " [ 0.50061292  0.54690844 -0.67102747 -0.17652875]\n",
      " [-0.24002558  0.83245405  0.49940763 -0.05769349]\n",
      " [ 0.          0.          0.          1.        ]]\n",
      "机械臂基座序号:4\n",
      "世界坐标系基座位置:\n",
      "[-0.56   0.     0.912]\n",
      "世界坐标系基座姿态:\n",
      "[0. 0. 0. 1.]\n",
      "世界坐标系基座变换:\n",
      "[[ 1.     0.     0.    -0.56 ]\n",
      " [ 0.     1.     0.     0.   ]\n",
      " [ 0.     0.     1.     0.912]\n",
      " [ 0.     0.     0.     1.   ]]\n",
      "机械臂末端名称:robot0_right_hand\n",
      "机械臂末端序号:12\n",
      "世界坐标系末端位置:\n",
      "[-0.21967662 -0.02468643  1.1265394 ]\n",
      "世界坐标系末端姿态:\n",
      "[-9.99440888e-01  2.46934819e-02  2.25417255e-02  1.17048126e-04]\n",
      "世界坐标系末端变换:\n",
      "[[ 9.97764205e-01 -4.93646279e-02 -4.50524636e-02 -2.19676616e-01]\n",
      " [-4.93540741e-02 -9.98780437e-01  1.34723275e-03 -2.46864292e-02]\n",
      " [-4.50640249e-02  8.79302016e-04 -9.98983714e-01  1.12653940e+00]\n",
      " [ 0.00000000e+00  0.00000000e+00  0.00000000e+00  1.00000000e+00]]\n",
      "基座坐标系末端变换:\n",
      "[[ 9.97764205e-01 -4.93646279e-02 -4.50524636e-02  3.40323384e-01]\n",
      " [-4.93540741e-02 -9.98780437e-01  1.34723275e-03 -2.46864292e-02]\n",
      " [-4.50640249e-02  8.79302016e-04 -9.98983714e-01  2.14539403e-01]\n",
      " [ 0.00000000e+00  0.00000000e+00  0.00000000e+00  1.00000000e+00]]\n",
      "('robot0_shoulder_pan_joint', 'robot0_shoulder_lift_joint', 'robot0_elbow_joint', 'robot0_wrist_1_joint', 'robot0_wrist_2_joint', 'robot0_wrist_3_joint')\n",
      "('world', 'table', 'left_eef_target', 'right_eef_target', 'robot0_base', 'robot0_fixed_base_link', 'robot0_shoulder_link', 'robot0_upper_arm_link', 'robot0_forearm_link', 'robot0_wrist_1_link', 'robot0_wrist_2_link', 'robot0_wrist_3_link', 'robot0_right_hand', 'gripper0_right_null_gripper', 'gripper0_right_eef', 'fixed_mount0_base', 'fixed_mount0_controller_box', 'fixed_mount0_pedestal_feet', 'fixed_mount0_torso', 'fixed_mount0_pedestal')\n",
      "('table_top', 'robot0_right_center', 'gripper0_right_ft_frame', 'gripper0_right_grip_site', 'gripper0_right_ee_x', 'gripper0_right_ee_y', 'gripper0_right_ee_z', 'gripper0_right_grip_site_cylinder')\n"
     ]
    },
    {
     "name": "stderr",
     "output_type": "stream",
     "text": [
      "\u001b[1m\u001b[33m[robosuite WARNING] \u001b[0mThe config has defined for the controller \"left\", but the robot does not have this component. Skipping, but make sure this is intended.Removing the controller config for left from self.part_controller_config. (robot.py:151)\n",
      "\u001b[1m\u001b[33m[robosuite WARNING] \u001b[0mThe config has defined for the controller \"torso\", but the robot does not have this component. Skipping, but make sure this is intended.Removing the controller config for torso from self.part_controller_config. (robot.py:151)\n",
      "\u001b[1m\u001b[33m[robosuite WARNING] \u001b[0mThe config has defined for the controller \"head\", but the robot does not have this component. Skipping, but make sure this is intended.Removing the controller config for head from self.part_controller_config. (robot.py:151)\n",
      "\u001b[1m\u001b[33m[robosuite WARNING] \u001b[0mThe config has defined for the controller \"base\", but the robot does not have this component. Skipping, but make sure this is intended.Removing the controller config for base from self.part_controller_config. (robot.py:151)\n",
      "\u001b[1m\u001b[33m[robosuite WARNING] \u001b[0mThe config has defined for the controller \"legs\", but the robot does not have this component. Skipping, but make sure this is intended.Removing the controller config for legs from self.part_controller_config. (robot.py:151)\n",
      "\u001b[1m\u001b[33m[robosuite WARNING] \u001b[0mThe config has defined for the controller \"left\", but the robot does not have this component. Skipping, but make sure this is intended.Removing the controller config for left from self.part_controller_config. (robot.py:151)\n",
      "\u001b[1m\u001b[33m[robosuite WARNING] \u001b[0mThe config has defined for the controller \"torso\", but the robot does not have this component. Skipping, but make sure this is intended.Removing the controller config for torso from self.part_controller_config. (robot.py:151)\n",
      "\u001b[1m\u001b[33m[robosuite WARNING] \u001b[0mThe config has defined for the controller \"head\", but the robot does not have this component. Skipping, but make sure this is intended.Removing the controller config for head from self.part_controller_config. (robot.py:151)\n",
      "\u001b[1m\u001b[33m[robosuite WARNING] \u001b[0mThe config has defined for the controller \"base\", but the robot does not have this component. Skipping, but make sure this is intended.Removing the controller config for base from self.part_controller_config. (robot.py:151)\n",
      "\u001b[1m\u001b[33m[robosuite WARNING] \u001b[0mThe config has defined for the controller \"legs\", but the robot does not have this component. Skipping, but make sure this is intended.Removing the controller config for legs from self.part_controller_config. (robot.py:151)\n",
      "\u001b[1m\u001b[33m[robosuite WARNING] \u001b[0mThe config has defined for the controller \"left\", but the robot does not have this component. Skipping, but make sure this is intended.Removing the controller config for left from self.part_controller_config. (robot.py:151)\n",
      "\u001b[1m\u001b[33m[robosuite WARNING] \u001b[0mThe config has defined for the controller \"torso\", but the robot does not have this component. Skipping, but make sure this is intended.Removing the controller config for torso from self.part_controller_config. (robot.py:151)\n",
      "\u001b[1m\u001b[33m[robosuite WARNING] \u001b[0mThe config has defined for the controller \"head\", but the robot does not have this component. Skipping, but make sure this is intended.Removing the controller config for head from self.part_controller_config. (robot.py:151)\n",
      "\u001b[1m\u001b[33m[robosuite WARNING] \u001b[0mThe config has defined for the controller \"base\", but the robot does not have this component. Skipping, but make sure this is intended.Removing the controller config for base from self.part_controller_config. (robot.py:151)\n",
      "\u001b[1m\u001b[33m[robosuite WARNING] \u001b[0mThe config has defined for the controller \"legs\", but the robot does not have this component. Skipping, but make sure this is intended.Removing the controller config for legs from self.part_controller_config. (robot.py:151)\n"
     ]
    }
   ],
   "source": [
    "# controller_config = load_part_controller_config(default_controller=\"OSC_POSE\")\n",
    "controller_config = load_composite_controller_config(controller=\"BASIC\")\n",
    "env = ReachEnv(controller_config=controller_config)\n",
    "\n",
    "env.test()\n",
    "obs = env.reset()\n",
    "\n",
    "for j in range(3):\n",
    "    for i in range(200):\n",
    "        action = np.random.uniform(low=-0.5, high=0.5, size=env.action_dim)\n",
    "        obs, reward, done, _ = env.step(action)\n",
    "        # if i % 20 == 0:\n",
    "        #     print(\"reward:\", reward)\n",
    "        #     print(\"done:\", done)\n",
    "        if done:\n",
    "            env.reset()\n",
    "            break\n",
    "        env.render()\n",
    "env.close()"
   ]
  },
  {
   "cell_type": "code",
   "execution_count": 9,
   "id": "c7ee70e3",
   "metadata": {},
   "outputs": [],
   "source": [
    "from stable_baselines3 import SAC\n",
    "from stable_baselines3.common.env_util import make_vec_env\n",
    "from stable_baselines3.common.vec_env import SubprocVecEnv\n",
    "from stable_baselines3.common.callbacks import EvalCallback"
   ]
  }
 ],
 "metadata": {
  "kernelspec": {
   "display_name": "sb3_py310",
   "language": "python",
   "name": "python3"
  },
  "language_info": {
   "codemirror_mode": {
    "name": "ipython",
    "version": 3
   },
   "file_extension": ".py",
   "mimetype": "text/x-python",
   "name": "python",
   "nbconvert_exporter": "python",
   "pygments_lexer": "ipython3",
   "version": "3.10.18"
  }
 },
 "nbformat": 4,
 "nbformat_minor": 5
}
