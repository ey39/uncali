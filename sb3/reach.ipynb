{
 "cells": [
  {
   "cell_type": "code",
   "execution_count": 1,
   "id": "60526bde",
   "metadata": {},
   "outputs": [
    {
     "name": "stderr",
     "output_type": "stream",
     "text": [
      "\u001b[1m\u001b[33m[robosuite WARNING] \u001b[0mNo private macro file found! (macros.py:57)\n",
      "\u001b[1m\u001b[33m[robosuite WARNING] \u001b[0mIt is recommended to use a private macro file (macros.py:58)\n",
      "\u001b[1m\u001b[33m[robosuite WARNING] \u001b[0mTo setup, run: python /home/ey/rl/src/robosuite/robosuite/scripts/setup_macros.py (macros.py:59)\n",
      "\u001b[1m\u001b[33m[robosuite WARNING] \u001b[0mCould not import robosuite_models. Some robots may not be available. If you want to use these robots, please install robosuite_models from source (https://github.com/ARISE-Initiative/robosuite_models) or through pip install. (__init__.py:30)\n",
      "\u001b[1m\u001b[33m[robosuite WARNING] \u001b[0mCould not load the mink-based whole-body IK. Make sure you install related import properly, otherwise you will not be able to use the default IK controller setting for GR1 robot. (__init__.py:40)\n",
      "2025-07-22 22:49:14.590808: I tensorflow/core/util/port.cc:153] oneDNN custom operations are on. You may see slightly different numerical results due to floating-point round-off errors from different computation orders. To turn them off, set the environment variable `TF_ENABLE_ONEDNN_OPTS=0`.\n",
      "2025-07-22 22:49:14.600760: E external/local_xla/xla/stream_executor/cuda/cuda_fft.cc:467] Unable to register cuFFT factory: Attempting to register factory for plugin cuFFT when one has already been registered\n",
      "WARNING: All log messages before absl::InitializeLog() is called are written to STDERR\n",
      "E0000 00:00:1753195754.612204   28004 cuda_dnn.cc:8579] Unable to register cuDNN factory: Attempting to register factory for plugin cuDNN when one has already been registered\n",
      "E0000 00:00:1753195754.615584   28004 cuda_blas.cc:1407] Unable to register cuBLAS factory: Attempting to register factory for plugin cuBLAS when one has already been registered\n",
      "W0000 00:00:1753195754.624411   28004 computation_placer.cc:177] computation placer already registered. Please check linkage and avoid linking the same target more than once.\n",
      "W0000 00:00:1753195754.624423   28004 computation_placer.cc:177] computation placer already registered. Please check linkage and avoid linking the same target more than once.\n",
      "W0000 00:00:1753195754.624424   28004 computation_placer.cc:177] computation placer already registered. Please check linkage and avoid linking the same target more than once.\n",
      "W0000 00:00:1753195754.624425   28004 computation_placer.cc:177] computation placer already registered. Please check linkage and avoid linking the same target more than once.\n",
      "2025-07-22 22:49:14.627590: I tensorflow/core/platform/cpu_feature_guard.cc:210] This TensorFlow binary is optimized to use available CPU instructions in performance-critical operations.\n",
      "To enable the following instructions: AVX2 AVX_VNNI FMA, in other operations, rebuild TensorFlow with the appropriate compiler flags.\n",
      "\u001b[1m\u001b[32m[robosuite INFO] \u001b[0mLoading controller configuration from: /home/ey/rl/src/robosuite/robosuite/controllers/config/default/composite/basic.json (composite_controller_factory.py:121)\n",
      "\u001b[1m\u001b[33m[robosuite WARNING] \u001b[0mThe config has defined for the controller \"left\", but the robot does not have this component. Skipping, but make sure this is intended.Removing the controller config for left from self.part_controller_config. (robot.py:151)\n",
      "\u001b[1m\u001b[33m[robosuite WARNING] \u001b[0mThe config has defined for the controller \"torso\", but the robot does not have this component. Skipping, but make sure this is intended.Removing the controller config for torso from self.part_controller_config. (robot.py:151)\n",
      "\u001b[1m\u001b[33m[robosuite WARNING] \u001b[0mThe config has defined for the controller \"head\", but the robot does not have this component. Skipping, but make sure this is intended.Removing the controller config for head from self.part_controller_config. (robot.py:151)\n",
      "\u001b[1m\u001b[33m[robosuite WARNING] \u001b[0mThe config has defined for the controller \"base\", but the robot does not have this component. Skipping, but make sure this is intended.Removing the controller config for base from self.part_controller_config. (robot.py:151)\n",
      "\u001b[1m\u001b[33m[robosuite WARNING] \u001b[0mThe config has defined for the controller \"legs\", but the robot does not have this component. Skipping, but make sure this is intended.Removing the controller config for legs from self.part_controller_config. (robot.py:151)\n"
     ]
    },
    {
     "name": "stdout",
     "output_type": "stream",
     "text": [
      "[chatbus_1] 共享内存不存在，创建成功\n",
      "quat: [0. 0. 0. 1.]\n",
      "pos: [-0.56   0.     0.912]\n"
     ]
    }
   ],
   "source": [
    "from envUtils import *\n",
    "\n",
    "env_config = {\n",
    "    \"robots\": [\"UR5e\"],         # 机器人\n",
    "    \"controller_configs\": load_composite_controller_config(controller=\"BASIC\"),\n",
    "    \"has_renderer\": False,\n",
    "    \"has_offscreen_renderer\": False,\n",
    "    \"reward_shaping\": True,\n",
    "    \"horizon\": 200,\n",
    "    \"control_freq\": 20,\n",
    "    \"seed\": 42,\n",
    "    \"train_type\": \"pose\",\n",
    "    \"reset_policy\": 2,\n",
    "    \"reward_scale\": 1.0,\n",
    "    \"use_object_obs\": False\n",
    "}\n",
    "\n",
    "env = ReachEnv(**env_config)\n",
    "env.update_goal_pose()"
   ]
  },
  {
   "cell_type": "code",
   "execution_count": null,
   "id": "c7ee70e3",
   "metadata": {},
   "outputs": [],
   "source": [
    "from stable_baselines3 import SAC\n",
    "from stable_baselines3.common.env_util import make_vec_env\n",
    "from stable_baselines3.common.vec_env import SubprocVecEnv\n",
    "from stable_baselines3.common.callbacks import EvalCallback\n",
    "\n",
    "from envUtils import *\n",
    "\n",
    "env_config = {\n",
    "    \"robots\": [\"UR5e\"],         # 机器人\n",
    "    \"controller_configs\": load_composite_controller_config(controller=\"BASIC\"),\n",
    "    \"has_renderer\": False,\n",
    "    \"has_offscreen_renderer\": False,\n",
    "    \"reward_shaping\": True,\n",
    "    \"horizon\": 200,\n",
    "    \"control_freq\": 20,\n",
    "    \"seed\": 42,\n",
    "    \"train_type\": \"pose\",\n",
    "    \"reset_policy\": 2,\n",
    "    \"reward_scale\": 1.0,\n",
    "    \"use_object_obs\": False\n",
    "}\n",
    "env = make_env(env_config)\n",
    "env.unwrapped.test()"
   ]
  }
 ],
 "metadata": {
  "kernelspec": {
   "display_name": "rlreach310",
   "language": "python",
   "name": "python3"
  },
  "language_info": {
   "codemirror_mode": {
    "name": "ipython",
    "version": 3
   },
   "file_extension": ".py",
   "mimetype": "text/x-python",
   "name": "python",
   "nbconvert_exporter": "python",
   "pygments_lexer": "ipython3",
   "version": "3.10.18"
  }
 },
 "nbformat": 4,
 "nbformat_minor": 5
}
