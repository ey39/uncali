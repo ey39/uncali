{
 "cells": [
  {
   "cell_type": "code",
   "execution_count": null,
   "id": "60526bde",
   "metadata": {},
   "outputs": [],
   "source": [
    "from reachEnvSb3 import *\n",
    "# controller_config = load_part_controller_config(default_controller=\"OSC_POSE\")\n",
    "controller_config = load_composite_controller_config(controller=\"BASIC\")\n",
    "env = ReachEnv(controller_config=controller_config)\n",
    "\n",
    "env.test()\n",
    "obs = env.reset()\n",
    "\n",
    "for j in range(3):\n",
    "    for i in range(200):\n",
    "        action = np.random.uniform(low=-0.5, high=0.5, size=env.action_dim)\n",
    "        obs, reward, done, _ = env.step(action)\n",
    "        # if i % 20 == 0:\n",
    "        #     print(\"reward:\", reward)\n",
    "        #     print(\"done:\", done)\n",
    "        if done:\n",
    "            env.reset()\n",
    "            break\n",
    "        env.render()\n",
    "env.close()"
   ]
  },
  {
   "cell_type": "code",
   "execution_count": null,
   "id": "c7ee70e3",
   "metadata": {},
   "outputs": [],
   "source": [
    "from stable_baselines3 import SAC\n",
    "from stable_baselines3.common.env_util import make_vec_env\n",
    "from stable_baselines3.common.vec_env import SubprocVecEnv\n",
    "from stable_baselines3.common.callbacks import EvalCallback\n",
    "\n",
    "from envUtils import *\n",
    "\n",
    "env_config = {\n",
    "    \"robots\": [\"UR5e\"],         # 机器人\n",
    "    \"controller_configs\": load_composite_controller_config(controller=\"BASIC\"),\n",
    "    \"has_renderer\": False,\n",
    "    \"has_offscreen_renderer\": False,\n",
    "    \"reward_shaping\": True,\n",
    "    \"horizon\": 200,\n",
    "    \"control_freq\": 20,\n",
    "    \"seed\": 42,\n",
    "    \"train_type\": \"pose\",\n",
    "    \"reset_policy\": 2,\n",
    "    \"reward_scale\": 1.0,\n",
    "    \"use_object_obs\": False\n",
    "}\n",
    "\n",
    "env = make_env(env_config)\n",
    "env.unwrapped.test()"
   ]
  }
 ],
 "metadata": {
  "kernelspec": {
   "display_name": "sb3_py310",
   "language": "python",
   "name": "python3"
  },
  "language_info": {
   "codemirror_mode": {
    "name": "ipython",
    "version": 3
   },
   "file_extension": ".py",
   "mimetype": "text/x-python",
   "name": "python",
   "nbconvert_exporter": "python",
   "pygments_lexer": "ipython3",
   "version": "3.10.18"
  }
 },
 "nbformat": 4,
 "nbformat_minor": 5
}
